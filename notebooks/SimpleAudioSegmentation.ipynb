{
 "cells": [
  {
   "cell_type": "code",
   "execution_count": null,
   "id": "f4124d82",
   "metadata": {},
   "outputs": [],
   "source": [
    "from pyannote.audio import Pipeline\n",
    "\n",
    "# Replace 'YOUR_AUTH_TOKEN' with your Hugging Face access token\n",
    "auth_token = \"YOUR_AUTH_TOKEN\"\n",
    "\n",
    "# Load the pre-trained pyannote.audio pipeline for speech activity detection\n",
    "pipeline = Pipeline.from_pretrained(\"pyannote/speaker-diarization\", use_auth_token=auth_token)\n",
    "\n",
    "# Path to the audio file\n",
    "audio_file = \"../data/speaker_diarization/speech_mix_1.wav\"\n",
    "\n",
    "# Apply the pipeline to the audio file\n",
    "segmentation = pipeline(audio_file)\n",
    "\n",
    "# Print speech vs non-speech timestamps\n",
    "print(\"Speech vs Non-Speech Timestamps:\")\n",
    "for segment, track, label in segmentation.itertracks(yield_label=True):\n",
    "    print(f\"Start: {segment.start:.2f}s, End: {segment.end:.2f}s, Label: {label}\")"
   ]
  }
 ],
 "metadata": {
  "kernelspec": {
   "display_name": "venv",
   "language": "python",
   "name": "python3"
  },
  "language_info": {
   "codemirror_mode": {
    "name": "ipython",
    "version": 3
   },
   "file_extension": ".py",
   "mimetype": "text/x-python",
   "name": "python",
   "nbconvert_exporter": "python",
   "pygments_lexer": "ipython3",
   "version": "3.12.2"
  }
 },
 "nbformat": 4,
 "nbformat_minor": 5
}

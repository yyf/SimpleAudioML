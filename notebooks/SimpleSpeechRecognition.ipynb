{
 "cells": [
  {
   "cell_type": "code",
   "execution_count": null,
   "id": "cb55faca",
   "metadata": {},
   "outputs": [
    {
     "name": "stdout",
     "output_type": "stream",
     "text": [
      "Accuracy: 0.0\n",
      "Sorry, could not understand the audio.\n",
      "No text to classify.\n"
     ]
    }
   ],
   "source": [
    "# Import necessary libraries\n",
    "import speech_recognition as sr\n",
    "from sklearn.feature_extraction.text import CountVectorizer\n",
    "from sklearn.naive_bayes import MultinomialNB\n",
    "from sklearn.model_selection import train_test_split\n",
    "from sklearn.metrics import accuracy_score\n",
    "\n",
    "# Naive Bayes Classifier is chosen for its simplicity and effectiveness in text classification tasks.\n",
    "# Other options to explore could include traditional models (logistic regression, support vector machines, decision trees or random forests), or deep learning models (RNNS, CNNs, Transformers) or pre-trained models (Google Speech API, DeepSpeech, Wave2Vec), depending on the complexity of the task and dataset size.\n",
    "\n",
    "# Step 1: Load pre-recorded audio and convert it to text\n",
    "def load_audio(file_path):\n",
    "    recognizer = sr.Recognizer()\n",
    "    try:\n",
    "        with sr.AudioFile(file_path) as source:\n",
    "            audio = recognizer.record(source)  # Read the entire audio file\n",
    "            text = recognizer.recognize_google(audio) # Convert audio to text using Google Speech Recognition\n",
    "            print(f\"Audio transcription: {text}\")\n",
    "            return text\n",
    "    except sr.UnknownValueError:\n",
    "        print(\"Sorry, could not understand the audio.\")\n",
    "        return None\n",
    "    except sr.RequestError:\n",
    "        print(\"Request error from Google Speech Recognition service.\")\n",
    "        return None\n",
    "\n",
    "# Step 2: Prepare training data\n",
    "# Example dataset (text and labels)\n",
    "data = [\n",
    "    (\"so\", \"adverb\"),\n",
    "    (\"we\", \"pronoun\"),\n",
    "    (\"hour\", \"noun\"),\n",
    "]\n",
    "\n",
    "texts, labels = zip(*data)\n",
    "\n",
    "# Step 3: Convert text data into features\n",
    "vectorizer = CountVectorizer()\n",
    "X = vectorizer.fit_transform(texts)\n",
    "y = labels\n",
    "\n",
    "# Step 4: Train a simple machine learning model\n",
    "X_train, X_test, y_train, y_test = train_test_split(X, y, test_size=0.2, random_state=42)\n",
    "model = MultinomialNB()\n",
    "model.fit(X_train, y_train)\n",
    "\n",
    "# Step 5: Test the model\n",
    "y_pred = model.predict(X_test)\n",
    "print(f\"Accuracy: {accuracy_score(y_test, y_pred)}\")\n",
    "\n",
    "# Step 6: Use the model for speech recognition\n",
    "def classify_text(text):\n",
    "    if text:\n",
    "        text_features = vectorizer.transform([text])\n",
    "        prediction = model.predict(text_features)\n",
    "        print(f\"Predicted label: {prediction[0]}\")\n",
    "    else:\n",
    "        print(\"No text to classify.\")\n",
    "\n",
    "# Load audio file and classify\n",
    "file_path = \"../data/asr_testing/hour.wav\"  # Replace with the actual file path\n",
    "spoken_text = load_audio(file_path)\n",
    "classify_text(spoken_text)"
   ]
  }
 ],
 "metadata": {
  "kernelspec": {
   "display_name": "venv",
   "language": "python",
   "name": "python3"
  },
  "language_info": {
   "codemirror_mode": {
    "name": "ipython",
    "version": 3
   },
   "file_extension": ".py",
   "mimetype": "text/x-python",
   "name": "python",
   "nbconvert_exporter": "python",
   "pygments_lexer": "ipython3",
   "version": "3.12.2"
  }
 },
 "nbformat": 4,
 "nbformat_minor": 5
}

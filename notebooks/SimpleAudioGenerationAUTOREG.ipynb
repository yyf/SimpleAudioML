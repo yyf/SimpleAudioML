{
 "cells": [
  {
   "cell_type": "code",
   "execution_count": 2,
   "id": "30b1789f",
   "metadata": {},
   "outputs": [
    {
     "name": "stdout",
     "output_type": "stream",
     "text": [
      "Epoch [10/100], Loss: 0.0000\n",
      "Epoch [20/100], Loss: 0.0000\n",
      "Epoch [30/100], Loss: 0.0000\n",
      "Epoch [40/100], Loss: 0.0000\n",
      "Epoch [50/100], Loss: 0.0000\n",
      "Epoch [60/100], Loss: 0.0000\n",
      "Epoch [70/100], Loss: 0.0000\n",
      "Epoch [80/100], Loss: 0.0000\n",
      "Epoch [90/100], Loss: 0.0000\n",
      "Epoch [100/100], Loss: 0.0000\n",
      "Audio generation complete. Saved as 'generated_audio.wav'.\n"
     ]
    }
   ],
   "source": [
    "import numpy as np\n",
    "import torch\n",
    "import torch.nn as nn\n",
    "import torch.optim as optim\n",
    "\n",
    "# Define a simple autoregressive model\n",
    "class SimpleARModel(nn.Module):\n",
    "    def __init__(self, input_size, hidden_size):\n",
    "        super(SimpleARModel, self).__init__()\n",
    "        self.rnn = nn.GRU(input_size, hidden_size, batch_first=True)\n",
    "        self.fc = nn.Linear(hidden_size, 1)\n",
    "\n",
    "    def forward(self, x):\n",
    "        out, _ = self.rnn(x)\n",
    "        out = self.fc(out[:, -1, :])  # Predict the next sample\n",
    "        return out\n",
    "\n",
    "# Generate synthetic training data (e.g., a sine wave)\n",
    "def generate_sine_wave(frequency, sample_rate, duration):\n",
    "    t = np.linspace(0, duration, int(sample_rate * duration), endpoint=False)\n",
    "    return np.sin(2 * np.pi * frequency * t)\n",
    "\n",
    "# Training parameters\n",
    "sample_rate = 16000\n",
    "duration = 1.0  # 1 second\n",
    "frequency = 440.0  \n",
    "hidden_size = 32\n",
    "learning_rate = 0.001\n",
    "epochs = 100\n",
    "\n",
    "# Generate training data\n",
    "audio_data = generate_sine_wave(frequency, sample_rate, duration)\n",
    "input_data = torch.tensor(audio_data[:-1], dtype=torch.float32).view(1, -1, 1)\n",
    "target_data = torch.tensor(audio_data[1:], dtype=torch.float32).view(1, -1, 1)\n",
    "\n",
    "# Initialize the model, loss function, and optimizer\n",
    "model = SimpleARModel(input_size=1, hidden_size=hidden_size)\n",
    "criterion = nn.MSELoss()\n",
    "optimizer = optim.Adam(model.parameters(), lr=learning_rate)\n",
    "\n",
    "# Train the model\n",
    "for epoch in range(epochs):\n",
    "    model.train()\n",
    "    optimizer.zero_grad()\n",
    "    output = model(input_data)\n",
    "    loss = criterion(output, target_data[:, -1, :])\n",
    "    loss.backward()\n",
    "    optimizer.step()\n",
    "    if (epoch + 1) % 10 == 0:\n",
    "        print(f\"Epoch [{epoch + 1}/{epochs}], Loss: {loss.item():.4f}\")\n",
    "\n",
    "# Generate new audio samples\n",
    "model.eval()\n",
    "generated_audio = [audio_data[0]]  # Start with the first sample\n",
    "input_seq = torch.tensor([[generated_audio[-1]]], dtype=torch.float32).view(1, 1, 1)\n",
    "\n",
    "for _ in range(sample_rate):  # Generate 1 second of audio\n",
    "    with torch.no_grad():\n",
    "        next_sample = model(input_seq)\n",
    "        generated_audio.append(next_sample.item())\n",
    "        input_seq = torch.tensor([[next_sample.item()]], dtype=torch.float32).view(1, 1, 1)\n",
    "\n",
    "# Save the generated audio as a .wav file\n",
    "from scipy.io.wavfile import write\n",
    "write(\"../data/generated_audio_AUTOREG.wav\", sample_rate, np.array(generated_audio, dtype=np.float32))\n",
    "\n",
    "print(\"Audio generation complete. Saved as 'generated_audio.wav'.\")"
   ]
  }
 ],
 "metadata": {
  "kernelspec": {
   "display_name": "venv",
   "language": "python",
   "name": "python3"
  },
  "language_info": {
   "codemirror_mode": {
    "name": "ipython",
    "version": 3
   },
   "file_extension": ".py",
   "mimetype": "text/x-python",
   "name": "python",
   "nbconvert_exporter": "python",
   "pygments_lexer": "ipython3",
   "version": "3.12.2"
  }
 },
 "nbformat": 4,
 "nbformat_minor": 5
}

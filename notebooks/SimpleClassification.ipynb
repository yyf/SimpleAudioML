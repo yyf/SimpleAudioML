{
 "cells": [
  {
   "cell_type": "code",
   "execution_count": null,
   "id": "871f9b06",
   "metadata": {},
   "outputs": [],
   "source": [
    "import librosa\n",
    "import numpy as np\n",
    "from sklearn.model_selection import train_test_split\n",
    "from sklearn.neighbors import KNeighborsClassifier\n",
    "from sklearn.metrics import accuracy_score\n",
    "\n",
    "# Load an example audio file and extract features\n",
    "def extract_features(file_path):\n",
    "    y, sr = librosa.load(file_path, sr=None)\n",
    "    mfccs = librosa.feature.mfcc(y=y, sr=sr, n_mfcc=13)\n",
    "    spectral_contrast = librosa.feature.spectral_contrast(y=y, sr=sr)\n",
    "    return np.hstack([np.mean(mfccs.T, axis=0), np.mean(spectral_contrast.T, axis=0)])\n",
    "\n",
    "# Example dataset (replace with your own audio files and labels)\n",
    "audio_files = [\"../data/raw/music_1.wav\", \"../data/raw/speech_1.wav\", \"../data/raw/music_2.wav\", \"../data/raw/speech_2.wav\"]\n",
    "labels = [0, 1, 0, 1]  # Example labels (e.g., 0 = class A, 1 = class B)\n",
    "\n",
    "# Extract features for all audio files\n",
    "features = np.array([extract_features(file) for file in audio_files])\n",
    "# Print the extracted features\n",
    "for i, feature in enumerate(features):\n",
    "    print(f\"File: {audio_files[i]}, Label: {labels[i]}, Features: {feature}\")\n",
    "\n",
    "# Split the dataset into training and testing sets\n",
    "X_train, X_test, y_train, y_test = train_test_split(features, labels, test_size=0.25, random_state=42)\n",
    "\n",
    "# Train a simple K-Nearest Neighbors classifier\n",
    "classifier = KNeighborsClassifier(n_neighbors=3)\n",
    "classifier.fit(X_train, y_train)\n",
    "\n",
    "# Predict on the test set\n",
    "y_pred = classifier.predict(X_test)\n",
    "\n",
    "# Evaluate the classifier\n",
    "accuracy = accuracy_score(y_test, y_pred)\n",
    "print(\"Predictions:\", y_pred)\n",
    "print(\"True Labels:\", y_test)\n",
    "print(f\"Accuracy: {accuracy * 100:.2f}%\")"
   ]
  }
 ],
 "metadata": {
  "kernelspec": {
   "display_name": "venv",
   "language": "python",
   "name": "python3"
  },
  "language_info": {
   "codemirror_mode": {
    "name": "ipython",
    "version": 3
   },
   "file_extension": ".py",
   "mimetype": "text/x-python",
   "name": "python",
   "nbconvert_exporter": "python",
   "pygments_lexer": "ipython3",
   "version": "3.12.2"
  }
 },
 "nbformat": 4,
 "nbformat_minor": 5
}

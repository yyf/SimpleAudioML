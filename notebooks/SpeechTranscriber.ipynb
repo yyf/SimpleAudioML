{
 "cells": [
  {
   "cell_type": "code",
   "execution_count": null,
   "id": "0c6c762d",
   "metadata": {},
   "outputs": [],
   "source": [
    "import os\n",
    "import whisper\n",
    "\n",
    "# Load the Whisper model (base model for offline transcription)\n",
    "model = whisper.load_model(\"base\")\n",
    "\n",
    "# Path to the audio file you want to transcribe\n",
    "audio_file = \"../data/raw/07282016HFUUforum_SLASH_07-28-2016_HFUUforum_DOT_mp3_00000.wav\"\n",
    "\n",
    "# Check if the file exists\n",
    "if not os.path.exists(audio_file):\n",
    "    raise FileNotFoundError(f\"Audio file not found: {audio_file}\")\n",
    "\n",
    "# Transcribe the audio file\n",
    "result = model.transcribe(audio_file)\n",
    "\n",
    "# Print the transcribed text\n",
    "print(\"Transcription:\")\n",
    "print(result[\"text\"])"
   ]
  }
 ],
 "metadata": {
  "kernelspec": {
   "display_name": "venv",
   "language": "python",
   "name": "python3"
  },
  "language_info": {
   "codemirror_mode": {
    "name": "ipython",
    "version": 3
   },
   "file_extension": ".py",
   "mimetype": "text/x-python",
   "name": "python",
   "nbconvert_exporter": "python",
   "pygments_lexer": "ipython3",
   "version": "3.12.2"
  }
 },
 "nbformat": 4,
 "nbformat_minor": 5
}

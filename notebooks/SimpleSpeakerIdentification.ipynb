{
 "cells": [
  {
   "cell_type": "code",
   "execution_count": 4,
   "id": "c793f544",
   "metadata": {},
   "outputs": [
    {
     "name": "stdout",
     "output_type": "stream",
     "text": [
      "Accuracy: 0.0\n"
     ]
    }
   ],
   "source": [
    "import librosa\n",
    "import numpy as np\n",
    "from sklearn.model_selection import train_test_split\n",
    "from sklearn.neighbors import KNeighborsClassifier\n",
    "from sklearn.metrics import accuracy_score\n",
    "\n",
    "# Load audio file and extract MFCC features\n",
    "def extract_features(file_path):\n",
    "    y, sr = librosa.load(file_path, sr=None)\n",
    "    mfcc = librosa.feature.mfcc(y=y, sr=sr, n_mfcc=13)\n",
    "    return np.mean(mfcc.T, axis=0)\n",
    "\n",
    "# Example dataset (replace with actual file paths and labels)\n",
    "audio_files = [\n",
    "    \"../data/speaker_identification_training/female-1-1.wav\",\n",
    "    \"../data/speaker_identification_training/female-2-1.wav\",\n",
    "    \"../data/speaker_identification_training/male-1-1.wav\",\n",
    "    \"../data/speaker_identification_training/male-2-1.wav\"\n",
    "]\n",
    "labels = [0, 1, 2, 3]  # Speaker IDs\n",
    "\n",
    "# Extract features for all audio files\n",
    "features = [extract_features(file) for file in audio_files]\n",
    "\n",
    "# Split data into training and testing sets\n",
    "X_train, X_test, y_train, y_test = train_test_split(features, labels, test_size=0.2, random_state=42)\n",
    "\n",
    "# Train k-NN classifier\n",
    "knn = KNeighborsClassifier(n_neighbors=3)\n",
    "knn.fit(X_train, y_train)\n",
    "\n",
    "# Predict and evaluate\n",
    "y_pred = knn.predict(X_test)\n",
    "print(\"Accuracy:\", accuracy_score(y_test, y_pred))"
   ]
  }
 ],
 "metadata": {
  "kernelspec": {
   "display_name": "venv",
   "language": "python",
   "name": "python3"
  },
  "language_info": {
   "codemirror_mode": {
    "name": "ipython",
    "version": 3
   },
   "file_extension": ".py",
   "mimetype": "text/x-python",
   "name": "python",
   "nbconvert_exporter": "python",
   "pygments_lexer": "ipython3",
   "version": "3.12.2"
  }
 },
 "nbformat": 4,
 "nbformat_minor": 5
}

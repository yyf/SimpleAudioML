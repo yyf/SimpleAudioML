{
 "cells": [
  {
   "cell_type": "code",
   "execution_count": 3,
   "id": "ed737b7b",
   "metadata": {},
   "outputs": [
    {
     "name": "stdout",
     "output_type": "stream",
     "text": [
      "Audio generation complete. Saved as 'generated_audio.wav'.\n"
     ]
    }
   ],
   "source": [
    "# Import necessary libraries\n",
    "import numpy as np\n",
    "import torch\n",
    "import torch.nn as nn\n",
    "import torchaudio\n",
    "from tqdm import tqdm\n",
    "\n",
    "# Define a simple diffusion model\n",
    "class SimpleDiffusionModel(nn.Module):\n",
    "    def __init__(self, input_dim):\n",
    "        super(SimpleDiffusionModel, self).__init__()\n",
    "        self.net = nn.Sequential(\n",
    "            nn.Linear(input_dim, 128),\n",
    "            nn.ReLU(),\n",
    "            nn.Linear(128, 128),\n",
    "            nn.ReLU(),\n",
    "            nn.Linear(128, input_dim)\n",
    "        )\n",
    "\n",
    "    def forward(self, x, t):\n",
    "        # Add time embedding (simple addition for demonstration)\n",
    "        time_embedding = torch.sin(t).unsqueeze(-1)\n",
    "        return self.net(x + time_embedding)\n",
    "\n",
    "# Define the forward diffusion process\n",
    "def forward_diffusion(x, timesteps):\n",
    "    noise = torch.randn_like(x)\n",
    "    alpha = torch.linspace(0.1, 1.0, timesteps)\n",
    "    noisy_x = x * alpha[-1] + noise * (1 - alpha[-1])\n",
    "    return noisy_x, noise\n",
    "\n",
    "# Define the reverse diffusion process\n",
    "def reverse_diffusion(model, noisy_x, timesteps):\n",
    "    alpha = torch.linspace(0.1, 1.0, timesteps)\n",
    "    x = noisy_x\n",
    "    for t in reversed(range(timesteps)):\n",
    "        t_tensor = torch.tensor([t / timesteps], dtype=torch.float32)\n",
    "        pred_noise = model(x, t_tensor)\n",
    "        x = (x - pred_noise * (1 - alpha[t])) / alpha[t]\n",
    "    return x\n",
    "\n",
    "# Generate audio using the diffusion model\n",
    "def generate_audio(model, timesteps, audio_length):\n",
    "    noisy_audio = torch.randn((1, audio_length))\n",
    "    generated_audio = reverse_diffusion(model, noisy_audio, timesteps)\n",
    "    return generated_audio\n",
    "\n",
    "# Main script\n",
    "if __name__ == \"__main__\":\n",
    "    # Parameters\n",
    "    audio_length = 16000  # 1 second of audio at 16kHz\n",
    "    timesteps = 100\n",
    "\n",
    "    # Initialize the model\n",
    "    model = SimpleDiffusionModel(input_dim=audio_length)\n",
    "\n",
    "    # Generate audio\n",
    "    generated_audio = generate_audio(model, timesteps, audio_length)\n",
    "\n",
    "    # Save the generated audio\n",
    "    torchaudio.save(\"../output/generated_audio_DIFFUSION\"\n",
    "    \".wav\", generated_audio.detach(), sample_rate=16000)\n",
    "\n",
    "    print(\"Audio generation complete. Saved as 'generated_audio.wav'.\")"
   ]
  }
 ],
 "metadata": {
  "kernelspec": {
   "display_name": "venv",
   "language": "python",
   "name": "python3"
  },
  "language_info": {
   "codemirror_mode": {
    "name": "ipython",
    "version": 3
   },
   "file_extension": ".py",
   "mimetype": "text/x-python",
   "name": "python",
   "nbconvert_exporter": "python",
   "pygments_lexer": "ipython3",
   "version": "3.12.2"
  }
 },
 "nbformat": 4,
 "nbformat_minor": 5
}

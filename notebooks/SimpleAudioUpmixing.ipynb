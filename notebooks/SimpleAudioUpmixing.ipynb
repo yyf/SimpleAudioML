{
 "cells": [
  {
   "cell_type": "code",
   "execution_count": null,
   "id": "d2a85c2f",
   "metadata": {},
   "outputs": [],
   "source": [
    "import numpy as np\n",
    "import librosa\n",
    "import soundfile as sf\n",
    "from tensorflow.keras.models import Sequential\n",
    "from tensorflow.keras.layers import Dense, Conv1D, Flatten, Input\n",
    "\n",
    "# Load mono audio file\n",
    "mono_audio_path = \"../data/mono_audio.wav\"  \n",
    "audio, sr = librosa.load(mono_audio_path, sr=None, mono=True)\n",
    "\n",
    "# Normalize audio\n",
    "audio = audio / np.max(np.abs(audio))\n",
    "\n",
    "# Prepare input data for the model\n",
    "# Reshape audio to match input dimensions (batch_size, time_steps, features)\n",
    "audio_input = audio.reshape(1, -1, 1)\n",
    "\n",
    "# Define a simple generative model for upmixing\n",
    "model = Sequential([\n",
    "    Input(shape=(audio_input.shape[1], 1)),  \n",
    "    Conv1D(64, kernel_size=3, activation='relu', padding='same'),\n",
    "    Conv1D(128, kernel_size=3, activation='relu', padding='same'),\n",
    "    Conv1D(64, kernel_size=3, activation='relu', padding='same'),\n",
    "    Flatten(),\n",
    "    Dense(audio_input.shape[1], activation='tanh'),  \n",
    "])\n",
    "\n",
    "# Generate stereo audio using the model\n",
    "# For simplicity, we use random weights (no training)\n",
    "model.compile(optimizer='adam', loss='mse')\n",
    "stereo_output = model.predict(audio_input)\n",
    "\n",
    "# Split stereo output into left and right channels\n",
    "left_channel = stereo_output[0, :audio_input.shape[1] // 2]\n",
    "right_channel = stereo_output[0, audio_input.shape[1] // 2:]\n",
    "\n",
    "# Normalize channels to avoid clipping\n",
    "left_channel = left_channel / np.max(np.abs(left_channel))\n",
    "right_channel = right_channel / np.max(np.abs(right_channel))\n",
    "\n",
    "# Combine channels into stereo\n",
    "stereo_audio = np.vstack((left_channel, right_channel)).T\n",
    "\n",
    "# Save the stereo audio file\n",
    "stereo_audio_path = \"./output/stereo_audio_CNN_generated.wav\" \n",
    "sf.write(stereo_audio_path, stereo_audio, sr)\n",
    "\n",
    "print(f\"Generative stereo audio saved to {stereo_audio_path}\")"
   ]
  }
 ],
 "metadata": {
  "kernelspec": {
   "display_name": "venv",
   "language": "python",
   "name": "python3"
  },
  "language_info": {
   "codemirror_mode": {
    "name": "ipython",
    "version": 3
   },
   "file_extension": ".py",
   "mimetype": "text/x-python",
   "name": "python",
   "nbconvert_exporter": "python",
   "pygments_lexer": "ipython3",
   "version": "3.12.2"
  }
 },
 "nbformat": 4,
 "nbformat_minor": 5
}
